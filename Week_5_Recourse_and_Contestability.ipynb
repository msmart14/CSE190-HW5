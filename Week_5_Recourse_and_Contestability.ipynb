{
  "nbformat": 4,
  "nbformat_minor": 0,
  "metadata": {
    "kernelspec": {
      "display_name": "Python 3",
      "language": "python",
      "name": "python3"
    },
    "language_info": {
      "codemirror_mode": {
        "name": "ipython",
        "version": 3
      },
      "file_extension": ".py",
      "mimetype": "text/x-python",
      "name": "python",
      "nbconvert_exporter": "python",
      "pygments_lexer": "ipython3",
      "version": "3.6.8"
    },
    "toc": {
      "base_numbering": 1,
      "nav_menu": {},
      "number_sections": false,
      "sideBar": false,
      "skip_h1_title": false,
      "title_cell": "Table of Contents",
      "title_sidebar": "Contents",
      "toc_cell": false,
      "toc_position": {},
      "toc_section_display": false,
      "toc_window_display": false
    },
    "colab": {
      "name": "Week_5_Recourse_and_Contestability.ipynb",
      "provenance": [],
      "collapsed_sections": []
    }
  },
  "cells": [
    {
      "cell_type": "markdown",
      "metadata": {
        "id": "8HhoaZMxrZXZ"
      },
      "source": [
        "# Automated Hate Speech Detection\n",
        "\n",
        "In this assignment you will design interactions around an automated hate speech detection system. "
      ]
    },
    {
      "cell_type": "markdown",
      "metadata": {
        "id": "n4NcLliIhFS8"
      },
      "source": [
        "_Attach a pdf with your sketches. Please include annotations/descriptions for each sketch. Please also include a user goal for each sketch._"
      ]
    },
    {
      "cell_type": "markdown",
      "metadata": {
        "id": "nviFxr3-rZXj"
      },
      "source": [
        "## Part 1: Recourse\n",
        "\n",
        "Machine learning classifiers are often used to detect hate speech online. For example, [some discord servers use AI-powered bots to manage abusive content](https://www.jasperstephenson.com/posts/safespace/).\n",
        "![SafeSpaceBot](https://www.jasperstephenson.com/posts/safespace/2.png) \n",
        "\n",
        "Suppose that you are designing an interface for a social media site. The machine learning team has already developed a hate speech detection model. You are tasked with designing a way to warn users before they post content that the model deems harmful and to give them an opportunity to alter the offending content.\n",
        "\n",
        "**Provide one sketch and explain how your design provides recourse to users.**\n",
        "\n",
        "*This problem is worth two points. Your sketch should be annotated, and it should be clear how your design provides recourse.*"
      ]
    },
    {
      "cell_type": "markdown",
      "metadata": {
        "id": "6wA-3EOSPU3A"
      },
      "source": [
        "## Part 2: Contestability\n",
        "\n",
        "Like all machine learning models, your team's hate speech classifier is imperfect and will make mistakes. You are tasked with designing an interface to help users discover possible problems with the hate speech classifier and provide feedback.\n",
        "\n",
        "**Provide three sketches and explain how your design supports contestability.**\n",
        "\n",
        "*Each sketch is worth two points. Each sketch should be annotated, and it should be clear how your design supports contestability. All three sketches should be clear and distinct. State a user goal for each sketch.*\n",
        "\n",
        "\n",
        "\n",
        "\n"
      ]
    },
    {
      "cell_type": "markdown",
      "metadata": {
        "id": "XqQoEbKLIenK"
      },
      "source": [
        "If you are interested in this topic, feel free to stop by Mary Anne and/or Professor Vaccaro's office hours to discuss our ongoing research project related to contestability."
      ]
    }
  ]
}